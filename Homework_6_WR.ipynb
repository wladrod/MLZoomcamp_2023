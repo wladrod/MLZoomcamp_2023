{
 "cells": [
  {
   "cell_type": "markdown",
   "id": "3ba8e940-3580-4215-a1e5-0cd042b79565",
   "metadata": {},
   "source": [
    "## Homework 6\n",
    "\n",
    "> Note: sometimes your answer doesn't match one of \n",
    "> the options exactly. That's fine. \n",
    "> Select the option that's closest to your solution."
   ]
  },
  {
   "cell_type": "markdown",
   "id": "9d734bbb-b013-4ce8-8b4b-4765f21222b8",
   "metadata": {},
   "source": [
    "### Dataset\n",
    "\n",
    "In this homework, we will use the California Housing Prices from [Kaggle](https://www.kaggle.com/datasets/camnugent/california-housing-prices).\n",
    "\n",
    "Here's a wget-able [link](https://raw.githubusercontent.com/alexeygrigorev/datasets/master/housing.csv):\n",
    "\n",
    "```bash\n",
    "wget https://raw.githubusercontent.com/alexeygrigorev/datasets/master/housing.csv\n",
    "```\n",
    "\n",
    "The goal of this homework is to create a regression model for predicting housing prices (column `'median_house_value'`)."
   ]
  },
  {
   "cell_type": "markdown",
   "id": "0ec9c0c6-c366-4f1b-b401-6d5270ccaa8d",
   "metadata": {},
   "source": [
    "### Preparing the dataset \n",
    "\n",
    "For this homework, we only want to use a subset of data. This is the same subset we used in homework #2.\n",
    "But in contrast to homework #2, we are going to use all columns of the dataset.\n",
    "\n",
    "First, keep only the records where `ocean_proximity` is either `'<1H OCEAN'` or `'INLAND'`\n",
    "\n",
    "Preparation:\n",
    "\n",
    "* Fill missing values with zeros.\n",
    "* Apply the log transform to `median_house_value`.\n",
    "* Do train/validation/test split with 60%/20%/20% distribution. \n",
    "* Use the `train_test_split` function and set the `random_state` parameter to 1.\n",
    "* Use `DictVectorizer(sparse=True)` to turn the dataframes into matrices.\n"
   ]
  },
  {
   "cell_type": "code",
   "execution_count": 2,
   "id": "cdbf4926-7296-4615-bb1c-f44e7ad08520",
   "metadata": {},
   "outputs": [],
   "source": [
    "import pandas as pd\n",
    "import numpy as np\n",
    "from sklearn.model_selection import train_test_split\n",
    "from sklearn.feature_extraction import DictVectorizer\n",
    "from sklearn.tree import DecisionTreeRegressor, plot_tree\n",
    "from sklearn.ensemble import RandomForestRegressor\n",
    "from sklearn.metrics import mean_squared_error"
   ]
  },
  {
   "cell_type": "code",
   "execution_count": 3,
   "id": "f357611b-f290-479a-9149-606bb646726d",
   "metadata": {},
   "outputs": [
    {
     "data": {
      "text/html": [
       "<div>\n",
       "<style scoped>\n",
       "    .dataframe tbody tr th:only-of-type {\n",
       "        vertical-align: middle;\n",
       "    }\n",
       "\n",
       "    .dataframe tbody tr th {\n",
       "        vertical-align: top;\n",
       "    }\n",
       "\n",
       "    .dataframe thead th {\n",
       "        text-align: right;\n",
       "    }\n",
       "</style>\n",
       "<table border=\"1\" class=\"dataframe\">\n",
       "  <thead>\n",
       "    <tr style=\"text-align: right;\">\n",
       "      <th></th>\n",
       "      <th>longitude</th>\n",
       "      <th>latitude</th>\n",
       "      <th>housing_median_age</th>\n",
       "      <th>total_rooms</th>\n",
       "      <th>total_bedrooms</th>\n",
       "      <th>population</th>\n",
       "      <th>households</th>\n",
       "      <th>median_income</th>\n",
       "      <th>median_house_value</th>\n",
       "      <th>ocean_proximity</th>\n",
       "    </tr>\n",
       "  </thead>\n",
       "  <tbody>\n",
       "    <tr>\n",
       "      <th>0</th>\n",
       "      <td>-122.23</td>\n",
       "      <td>37.88</td>\n",
       "      <td>41.0</td>\n",
       "      <td>880.0</td>\n",
       "      <td>129.0</td>\n",
       "      <td>322.0</td>\n",
       "      <td>126.0</td>\n",
       "      <td>8.3252</td>\n",
       "      <td>452600.0</td>\n",
       "      <td>NEAR BAY</td>\n",
       "    </tr>\n",
       "    <tr>\n",
       "      <th>1</th>\n",
       "      <td>-122.22</td>\n",
       "      <td>37.86</td>\n",
       "      <td>21.0</td>\n",
       "      <td>7099.0</td>\n",
       "      <td>1106.0</td>\n",
       "      <td>2401.0</td>\n",
       "      <td>1138.0</td>\n",
       "      <td>8.3014</td>\n",
       "      <td>358500.0</td>\n",
       "      <td>NEAR BAY</td>\n",
       "    </tr>\n",
       "    <tr>\n",
       "      <th>2</th>\n",
       "      <td>-122.24</td>\n",
       "      <td>37.85</td>\n",
       "      <td>52.0</td>\n",
       "      <td>1467.0</td>\n",
       "      <td>190.0</td>\n",
       "      <td>496.0</td>\n",
       "      <td>177.0</td>\n",
       "      <td>7.2574</td>\n",
       "      <td>352100.0</td>\n",
       "      <td>NEAR BAY</td>\n",
       "    </tr>\n",
       "    <tr>\n",
       "      <th>3</th>\n",
       "      <td>-122.25</td>\n",
       "      <td>37.85</td>\n",
       "      <td>52.0</td>\n",
       "      <td>1274.0</td>\n",
       "      <td>235.0</td>\n",
       "      <td>558.0</td>\n",
       "      <td>219.0</td>\n",
       "      <td>5.6431</td>\n",
       "      <td>341300.0</td>\n",
       "      <td>NEAR BAY</td>\n",
       "    </tr>\n",
       "    <tr>\n",
       "      <th>4</th>\n",
       "      <td>-122.25</td>\n",
       "      <td>37.85</td>\n",
       "      <td>52.0</td>\n",
       "      <td>1627.0</td>\n",
       "      <td>280.0</td>\n",
       "      <td>565.0</td>\n",
       "      <td>259.0</td>\n",
       "      <td>3.8462</td>\n",
       "      <td>342200.0</td>\n",
       "      <td>NEAR BAY</td>\n",
       "    </tr>\n",
       "  </tbody>\n",
       "</table>\n",
       "</div>"
      ],
      "text/plain": [
       "   longitude  latitude  housing_median_age  total_rooms  total_bedrooms  \\\n",
       "0    -122.23     37.88                41.0        880.0           129.0   \n",
       "1    -122.22     37.86                21.0       7099.0          1106.0   \n",
       "2    -122.24     37.85                52.0       1467.0           190.0   \n",
       "3    -122.25     37.85                52.0       1274.0           235.0   \n",
       "4    -122.25     37.85                52.0       1627.0           280.0   \n",
       "\n",
       "   population  households  median_income  median_house_value ocean_proximity  \n",
       "0       322.0       126.0         8.3252            452600.0        NEAR BAY  \n",
       "1      2401.0      1138.0         8.3014            358500.0        NEAR BAY  \n",
       "2       496.0       177.0         7.2574            352100.0        NEAR BAY  \n",
       "3       558.0       219.0         5.6431            341300.0        NEAR BAY  \n",
       "4       565.0       259.0         3.8462            342200.0        NEAR BAY  "
      ]
     },
     "execution_count": 3,
     "metadata": {},
     "output_type": "execute_result"
    }
   ],
   "source": [
    "data = pd.read_csv('./data/housing.csv')\n",
    "data.head()"
   ]
  },
  {
   "cell_type": "code",
   "execution_count": 4,
   "id": "14e2bb78-ea48-4ec5-b6ce-25397bbcb31d",
   "metadata": {},
   "outputs": [
    {
     "data": {
      "text/html": [
       "<div>\n",
       "<style scoped>\n",
       "    .dataframe tbody tr th:only-of-type {\n",
       "        vertical-align: middle;\n",
       "    }\n",
       "\n",
       "    .dataframe tbody tr th {\n",
       "        vertical-align: top;\n",
       "    }\n",
       "\n",
       "    .dataframe thead th {\n",
       "        text-align: right;\n",
       "    }\n",
       "</style>\n",
       "<table border=\"1\" class=\"dataframe\">\n",
       "  <thead>\n",
       "    <tr style=\"text-align: right;\">\n",
       "      <th></th>\n",
       "      <th>longitude</th>\n",
       "      <th>latitude</th>\n",
       "      <th>housing_median_age</th>\n",
       "      <th>total_rooms</th>\n",
       "      <th>total_bedrooms</th>\n",
       "      <th>population</th>\n",
       "      <th>households</th>\n",
       "      <th>median_income</th>\n",
       "      <th>median_house_value</th>\n",
       "      <th>ocean_proximity</th>\n",
       "    </tr>\n",
       "  </thead>\n",
       "  <tbody>\n",
       "    <tr>\n",
       "      <th>701</th>\n",
       "      <td>-121.97</td>\n",
       "      <td>37.64</td>\n",
       "      <td>32.0</td>\n",
       "      <td>1283.0</td>\n",
       "      <td>194.0</td>\n",
       "      <td>485.0</td>\n",
       "      <td>171.0</td>\n",
       "      <td>6.0574</td>\n",
       "      <td>431000.0</td>\n",
       "      <td>&lt;1H OCEAN</td>\n",
       "    </tr>\n",
       "    <tr>\n",
       "      <th>830</th>\n",
       "      <td>-121.99</td>\n",
       "      <td>37.61</td>\n",
       "      <td>9.0</td>\n",
       "      <td>3666.0</td>\n",
       "      <td>711.0</td>\n",
       "      <td>2341.0</td>\n",
       "      <td>703.0</td>\n",
       "      <td>4.6458</td>\n",
       "      <td>217000.0</td>\n",
       "      <td>&lt;1H OCEAN</td>\n",
       "    </tr>\n",
       "    <tr>\n",
       "      <th>859</th>\n",
       "      <td>-121.97</td>\n",
       "      <td>37.57</td>\n",
       "      <td>21.0</td>\n",
       "      <td>4342.0</td>\n",
       "      <td>783.0</td>\n",
       "      <td>2172.0</td>\n",
       "      <td>789.0</td>\n",
       "      <td>4.6146</td>\n",
       "      <td>247600.0</td>\n",
       "      <td>&lt;1H OCEAN</td>\n",
       "    </tr>\n",
       "    <tr>\n",
       "      <th>860</th>\n",
       "      <td>-121.96</td>\n",
       "      <td>37.58</td>\n",
       "      <td>15.0</td>\n",
       "      <td>3575.0</td>\n",
       "      <td>597.0</td>\n",
       "      <td>1777.0</td>\n",
       "      <td>559.0</td>\n",
       "      <td>5.7192</td>\n",
       "      <td>283500.0</td>\n",
       "      <td>&lt;1H OCEAN</td>\n",
       "    </tr>\n",
       "    <tr>\n",
       "      <th>861</th>\n",
       "      <td>-121.98</td>\n",
       "      <td>37.58</td>\n",
       "      <td>20.0</td>\n",
       "      <td>4126.0</td>\n",
       "      <td>1031.0</td>\n",
       "      <td>2079.0</td>\n",
       "      <td>975.0</td>\n",
       "      <td>3.6832</td>\n",
       "      <td>216900.0</td>\n",
       "      <td>&lt;1H OCEAN</td>\n",
       "    </tr>\n",
       "  </tbody>\n",
       "</table>\n",
       "</div>"
      ],
      "text/plain": [
       "     longitude  latitude  housing_median_age  total_rooms  total_bedrooms  \\\n",
       "701    -121.97     37.64                32.0       1283.0           194.0   \n",
       "830    -121.99     37.61                 9.0       3666.0           711.0   \n",
       "859    -121.97     37.57                21.0       4342.0           783.0   \n",
       "860    -121.96     37.58                15.0       3575.0           597.0   \n",
       "861    -121.98     37.58                20.0       4126.0          1031.0   \n",
       "\n",
       "     population  households  median_income  median_house_value ocean_proximity  \n",
       "701       485.0       171.0         6.0574            431000.0       <1H OCEAN  \n",
       "830      2341.0       703.0         4.6458            217000.0       <1H OCEAN  \n",
       "859      2172.0       789.0         4.6146            247600.0       <1H OCEAN  \n",
       "860      1777.0       559.0         5.7192            283500.0       <1H OCEAN  \n",
       "861      2079.0       975.0         3.6832            216900.0       <1H OCEAN  "
      ]
     },
     "execution_count": 4,
     "metadata": {},
     "output_type": "execute_result"
    }
   ],
   "source": [
    "data = data[(data['ocean_proximity'] == '<1H OCEAN') | (data['ocean_proximity'] == 'INLAND')]\n",
    "data.head()"
   ]
  },
  {
   "cell_type": "code",
   "execution_count": 5,
   "id": "10d5f36e-d049-42d2-b0c0-762bdba7c658",
   "metadata": {},
   "outputs": [],
   "source": [
    "# Fill missing values with zeros.\n",
    "data = data.fillna(0)"
   ]
  },
  {
   "cell_type": "code",
   "execution_count": 6,
   "id": "7f0cccb9-908d-40f1-b897-0cdcd670f4a9",
   "metadata": {},
   "outputs": [],
   "source": [
    "# Apply the log transform to median_house_value.\n",
    "data['median_house_value'] = np.log1p(data['median_house_value'])"
   ]
  },
  {
   "cell_type": "code",
   "execution_count": 7,
   "id": "12af52f6-a62c-4109-b5aa-6b5ad1209f6d",
   "metadata": {},
   "outputs": [
    {
     "data": {
      "text/plain": [
       "(9411, 3138, 3138)"
      ]
     },
     "execution_count": 7,
     "metadata": {},
     "output_type": "execute_result"
    }
   ],
   "source": [
    "# Do train/validation/test split with 60%/20%/20% distribution.\n",
    "y = data['median_house_value']\n",
    "data = data.drop(['median_house_value'], axis=1)\n",
    "data_full_train, data_test, y_full_train, y_test = train_test_split(data, y, test_size=0.2, random_state=1)\n",
    "data_train, data_val, y_train, y_val = train_test_split(data_full_train, y_full_train, test_size=0.25, random_state=1)\n",
    "len(data_train.values), len(data_val.values), len(data_test.values)"
   ]
  },
  {
   "cell_type": "code",
   "execution_count": 8,
   "id": "0c41e7d1-92e7-4443-ae48-6a6f4f143e7a",
   "metadata": {},
   "outputs": [],
   "source": [
    "# Use DictVectorizer(sparse=True) to turn the dataframes into matrices.\n",
    "numerical = ['longitude', 'latitude', 'housing_median_age',\t'total_rooms', 'total_bedrooms', 'population', 'households', 'median_income']\n",
    "categorical = ['ocean_proximity']\n",
    "train_dicts = data_train[categorical + numerical].to_dict(orient='records')\n",
    "dv = DictVectorizer(sparse=True)\n",
    "X_train = dv.fit_transform(train_dicts)\n",
    "val_dicts = data_val[categorical + numerical].to_dict(orient='records')\n",
    "X_val = dv.transform(val_dicts)\n",
    "test_dicts = data_test[categorical + numerical].to_dict(orient='records')\n",
    "X_test = dv.transform(test_dicts)"
   ]
  },
  {
   "cell_type": "markdown",
   "id": "e2adc68c-b38e-45d0-bea5-4653660eeb4b",
   "metadata": {},
   "source": [
    "## Question 1\n",
    "\n",
    "Let's train a decision tree regressor to predict the `median_house_value` variable. \n",
    "\n",
    "* Train a model with `max_depth=1`.\n",
    "\n",
    "\n",
    "Which feature is used for splitting the data?\n",
    "\n",
    "* `ocean_proximity`\n",
    "* `total_rooms`\n",
    "* `latitude`\n",
    "* **`population`**\n"
   ]
  },
  {
   "cell_type": "code",
   "execution_count": 9,
   "id": "e3e57f27-f3c5-4d24-8396-53afde430701",
   "metadata": {},
   "outputs": [
    {
     "data": {
      "text/html": [
       "<style>#sk-container-id-1 {color: black;}#sk-container-id-1 pre{padding: 0;}#sk-container-id-1 div.sk-toggleable {background-color: white;}#sk-container-id-1 label.sk-toggleable__label {cursor: pointer;display: block;width: 100%;margin-bottom: 0;padding: 0.3em;box-sizing: border-box;text-align: center;}#sk-container-id-1 label.sk-toggleable__label-arrow:before {content: \"▸\";float: left;margin-right: 0.25em;color: #696969;}#sk-container-id-1 label.sk-toggleable__label-arrow:hover:before {color: black;}#sk-container-id-1 div.sk-estimator:hover label.sk-toggleable__label-arrow:before {color: black;}#sk-container-id-1 div.sk-toggleable__content {max-height: 0;max-width: 0;overflow: hidden;text-align: left;background-color: #f0f8ff;}#sk-container-id-1 div.sk-toggleable__content pre {margin: 0.2em;color: black;border-radius: 0.25em;background-color: #f0f8ff;}#sk-container-id-1 input.sk-toggleable__control:checked~div.sk-toggleable__content {max-height: 200px;max-width: 100%;overflow: auto;}#sk-container-id-1 input.sk-toggleable__control:checked~label.sk-toggleable__label-arrow:before {content: \"▾\";}#sk-container-id-1 div.sk-estimator input.sk-toggleable__control:checked~label.sk-toggleable__label {background-color: #d4ebff;}#sk-container-id-1 div.sk-label input.sk-toggleable__control:checked~label.sk-toggleable__label {background-color: #d4ebff;}#sk-container-id-1 input.sk-hidden--visually {border: 0;clip: rect(1px 1px 1px 1px);clip: rect(1px, 1px, 1px, 1px);height: 1px;margin: -1px;overflow: hidden;padding: 0;position: absolute;width: 1px;}#sk-container-id-1 div.sk-estimator {font-family: monospace;background-color: #f0f8ff;border: 1px dotted black;border-radius: 0.25em;box-sizing: border-box;margin-bottom: 0.5em;}#sk-container-id-1 div.sk-estimator:hover {background-color: #d4ebff;}#sk-container-id-1 div.sk-parallel-item::after {content: \"\";width: 100%;border-bottom: 1px solid gray;flex-grow: 1;}#sk-container-id-1 div.sk-label:hover label.sk-toggleable__label {background-color: #d4ebff;}#sk-container-id-1 div.sk-serial::before {content: \"\";position: absolute;border-left: 1px solid gray;box-sizing: border-box;top: 0;bottom: 0;left: 50%;z-index: 0;}#sk-container-id-1 div.sk-serial {display: flex;flex-direction: column;align-items: center;background-color: white;padding-right: 0.2em;padding-left: 0.2em;position: relative;}#sk-container-id-1 div.sk-item {position: relative;z-index: 1;}#sk-container-id-1 div.sk-parallel {display: flex;align-items: stretch;justify-content: center;background-color: white;position: relative;}#sk-container-id-1 div.sk-item::before, #sk-container-id-1 div.sk-parallel-item::before {content: \"\";position: absolute;border-left: 1px solid gray;box-sizing: border-box;top: 0;bottom: 0;left: 50%;z-index: -1;}#sk-container-id-1 div.sk-parallel-item {display: flex;flex-direction: column;z-index: 1;position: relative;background-color: white;}#sk-container-id-1 div.sk-parallel-item:first-child::after {align-self: flex-end;width: 50%;}#sk-container-id-1 div.sk-parallel-item:last-child::after {align-self: flex-start;width: 50%;}#sk-container-id-1 div.sk-parallel-item:only-child::after {width: 0;}#sk-container-id-1 div.sk-dashed-wrapped {border: 1px dashed gray;margin: 0 0.4em 0.5em 0.4em;box-sizing: border-box;padding-bottom: 0.4em;background-color: white;}#sk-container-id-1 div.sk-label label {font-family: monospace;font-weight: bold;display: inline-block;line-height: 1.2em;}#sk-container-id-1 div.sk-label-container {text-align: center;}#sk-container-id-1 div.sk-container {/* jupyter's `normalize.less` sets `[hidden] { display: none; }` but bootstrap.min.css set `[hidden] { display: none !important; }` so we also need the `!important` here to be able to override the default hidden behavior on the sphinx rendered scikit-learn.org. See: https://github.com/scikit-learn/scikit-learn/issues/21755 */display: inline-block !important;position: relative;}#sk-container-id-1 div.sk-text-repr-fallback {display: none;}</style><div id=\"sk-container-id-1\" class=\"sk-top-container\"><div class=\"sk-text-repr-fallback\"><pre>DecisionTreeRegressor(max_depth=1)</pre><b>In a Jupyter environment, please rerun this cell to show the HTML representation or trust the notebook. <br />On GitHub, the HTML representation is unable to render, please try loading this page with nbviewer.org.</b></div><div class=\"sk-container\" hidden><div class=\"sk-item\"><div class=\"sk-estimator sk-toggleable\"><input class=\"sk-toggleable__control sk-hidden--visually\" id=\"sk-estimator-id-1\" type=\"checkbox\" checked><label for=\"sk-estimator-id-1\" class=\"sk-toggleable__label sk-toggleable__label-arrow\">DecisionTreeRegressor</label><div class=\"sk-toggleable__content\"><pre>DecisionTreeRegressor(max_depth=1)</pre></div></div></div></div></div>"
      ],
      "text/plain": [
       "DecisionTreeRegressor(max_depth=1)"
      ]
     },
     "execution_count": 9,
     "metadata": {},
     "output_type": "execute_result"
    }
   ],
   "source": [
    "dtr = DecisionTreeRegressor(max_depth=1)\n",
    "dtr.fit(X_train, y_train)"
   ]
  },
  {
   "cell_type": "code",
   "execution_count": 10,
   "id": "f55fcab7-9206-4c19-a8c2-9956c0125ae5",
   "metadata": {},
   "outputs": [
    {
     "name": "stdout",
     "output_type": "stream",
     "text": [
      "[0. 0. 0. 0. 0. 1. 0. 0. 0. 0.]\n"
     ]
    },
    {
     "data": {
      "image/png": "[encoded data removed]",
      "text/plain": [
       "<Figure size 640x480 with 1 Axes>"
      ]
     },
     "metadata": {},
     "output_type": "display_data"
    }
   ],
   "source": [
    "# feature use for splitting data X[5] -> population\n",
    "print(dtr.feature_importances_)\n",
    "plot_tree(dtr);"
   ]
  },
  {
   "cell_type": "markdown",
   "id": "20ebaa84-fb82-4eb6-a852-cc7884ed6e11",
   "metadata": {},
   "source": [
    "## Question 2\n",
    "\n",
    "Train a random forest model with these parameters:\n",
    "\n",
    "* `n_estimators=10`\n",
    "* `random_state=1`\n",
    "* `n_jobs=-1` (optional - to make training faster)\n",
    "\n",
    "\n",
    "What's the RMSE of this model on validation?\n",
    "\n",
    "* 0.045\n",
    "* **0.245**\n",
    "* 0.545\n",
    "* 0.845"
   ]
  },
  {
   "cell_type": "code",
   "execution_count": 11,
   "id": "e391075a-1016-48c4-ae43-e824db76ee5c",
   "metadata": {},
   "outputs": [
    {
     "data": {
      "text/plain": [
       "0.245"
      ]
     },
     "execution_count": 11,
     "metadata": {},
     "output_type": "execute_result"
    }
   ],
   "source": [
    "rfr = RandomForestRegressor(n_estimators=10, n_jobs=-1, random_state=1)\n",
    "rfr.fit(X_train, y_train)\n",
    "y_pred = rfr.predict(X_val)\n",
    "np.sqrt(mean_squared_error(y_val, y_pred)).round(3)"
   ]
  },
  {
   "cell_type": "markdown",
   "id": "abc1956b-ebf1-41e9-98f1-3176580d59be",
   "metadata": {},
   "source": [
    "## Question 3\n",
    "\n",
    "Now let's experiment with the `n_estimators` parameter\n",
    "\n",
    "* Try different values of this parameter from 10 to 200 with step 10.\n",
    "* Set `random_state` to `1`.\n",
    "* Evaluate the model on the validation dataset.\n",
    "\n",
    "\n",
    "After which value of `n_estimators` does RMSE stop improving?\n",
    "Consider 3 decimal places for retrieving the answer.\n",
    "\n",
    "- 10\n",
    "- 25\n",
    "- 50\n",
    "- **160**"
   ]
  },
  {
   "cell_type": "code",
   "execution_count": 12,
   "id": "67ab2dc8-24f2-428e-b509-753a61834e31",
   "metadata": {},
   "outputs": [
    {
     "name": "stdout",
     "output_type": "stream",
     "text": [
      "n_estimators:  10 -> rmse: 0.245\n",
      "n_estimators:  20 -> rmse: 0.239\n",
      "n_estimators:  30 -> rmse: 0.237\n",
      "n_estimators:  40 -> rmse: 0.235\n",
      "n_estimators:  50 -> rmse: 0.235\n",
      "n_estimators:  60 -> rmse: 0.234\n",
      "n_estimators:  70 -> rmse: 0.234\n",
      "n_estimators:  80 -> rmse: 0.234\n",
      "n_estimators:  90 -> rmse: 0.234\n",
      "n_estimators: 100 -> rmse: 0.234\n",
      "n_estimators: 110 -> rmse: 0.234\n",
      "n_estimators: 120 -> rmse: 0.234\n",
      "n_estimators: 130 -> rmse: 0.234\n",
      "n_estimators: 140 -> rmse: 0.233\n",
      "n_estimators: 150 -> rmse: 0.233\n",
      "n_estimators: 160 -> rmse: 0.233\n",
      "n_estimators: 170 -> rmse: 0.233\n",
      "n_estimators: 180 -> rmse: 0.233\n",
      "n_estimators: 190 -> rmse: 0.234\n",
      "n_estimators: 200 -> rmse: 0.234\n"
     ]
    }
   ],
   "source": [
    "for n in range (10, 201, 10):\n",
    "    rfr = RandomForestRegressor(n_estimators=n, n_jobs=-1, random_state=1)\n",
    "    rfr.fit(X_train, y_train)\n",
    "    y_pred = rfr.predict(X_val)\n",
    "    rmse = np.sqrt(mean_squared_error(y_val, y_pred)).round(3)\n",
    "    print(f'n_estimators: {n:3d} -> rmse: {rmse:.3f}')"
   ]
  },
  {
   "cell_type": "markdown",
   "id": "7156ba91-5e71-4f33-8dfb-be71d4b8a983",
   "metadata": {},
   "source": [
    "## Question 4\n",
    "\n",
    "Let's select the best `max_depth`:\n",
    "\n",
    "* Try different values of `max_depth`: `[10, 15, 20, 25]`\n",
    "* For each of these values,\n",
    "  * try different values of `n_estimators` from 10 till 200 (with step 10)\n",
    "  * calculate the mean RMSE \n",
    "* Fix the random seed: `random_state=1`\n",
    "\n",
    "\n",
    "What's the best `max_depth`, using the mean RMSE?\n",
    "\n",
    "* 10\n",
    "* 15\n",
    "* **20**\n",
    "* 25"
   ]
  },
  {
   "cell_type": "code",
   "execution_count": 16,
   "id": "0bbee10e-bb79-42e0-bb71-8faf52060f48",
   "metadata": {},
   "outputs": [
    {
     "name": "stdout",
     "output_type": "stream",
     "text": [
      "max_depth:  10, -> mean_rmse: 0.24484\n",
      "max_depth:  15, -> mean_rmse: 0.23444\n",
      "max_depth:  20, -> mean_rmse: 0.23368\n",
      "max_depth:  25, -> mean_rmse: 0.23379\n"
     ]
    }
   ],
   "source": [
    "for m in [10, 15, 20, 25]:\n",
    "    total_rmse = 0\n",
    "    for n in range (10, 201, 10):\n",
    "        rfr = RandomForestRegressor(n_estimators=n, max_depth=m, n_jobs=-1, random_state=1)\n",
    "        rfr.fit(X_train, y_train)\n",
    "        y_pred = rfr.predict(X_val)\n",
    "        rmse = np.sqrt(mean_squared_error(y_val, y_pred)).round(5)\n",
    "        total_rmse += rmse\n",
    "    mean_rmse = total_rmse / 20\n",
    "    print(f'max_depth: {m:3d}, -> mean_rmse: {rmse:.5f}')\n",
    "    "
   ]
  },
  {
   "cell_type": "markdown",
   "id": "ecf3cefa-c09e-40b5-92f9-7e524ecf3a9f",
   "metadata": {},
   "source": [
    "# Question 5\n",
    "\n",
    "We can extract feature importance information from tree-based models. \n",
    "\n",
    "At each step of the decision tree learning algorithm, it finds the best split. \n",
    "When doing it, we can calculate \"gain\" - the reduction in impurity before and after the split. \n",
    "This gain is quite useful in understanding what are the important features for tree-based models.\n",
    "\n",
    "In Scikit-Learn, tree-based models contain this information in the\n",
    "[`feature_importances_`](https://scikit-learn.org/stable/modules/generated/sklearn.ensemble.RandomForestRegressor.html#sklearn.ensemble.RandomForestRegressor.feature_importances_)\n",
    "field. \n",
    "\n",
    "For this homework question, we'll find the most important feature:\n",
    "\n",
    "* Train the model with these parameters:\n",
    "  * `n_estimators=10`,\n",
    "  * `max_depth=20`,\n",
    "  * `random_state=1`,\n",
    "  * `n_jobs=-1` (optional)\n",
    "* Get the feature importance information from this model\n",
    "\n",
    "\n",
    "What's the most important feature (among these 4)? \n",
    "\n",
    "* `total_rooms`\n",
    "* `median_income`\n",
    "* **`total_bedrooms`**\n",
    "* `longitude`\n"
   ]
  },
  {
   "cell_type": "code",
   "execution_count": 22,
   "id": "502ebf17-92aa-41b1-aab6-15b579113e10",
   "metadata": {},
   "outputs": [
    {
     "name": "stdout",
     "output_type": "stream",
     "text": [
      "most important feature: 4 --> total_bedrooms\n"
     ]
    }
   ],
   "source": [
    "#  most important feature use for splitting data X[4] -> total_bedrooms\n",
    "rfr = RandomForestRegressor(n_estimators=10, max_depth=20, n_jobs=-1, random_state=1)\n",
    "rfr.fit(X_train, y_train)\n",
    "print(f'most important feature: {np.argmax(rfr.feature_importances_)} --> total_bedrooms')"
   ]
  },
  {
   "cell_type": "markdown",
   "id": "26dbdd64-04fc-4d9c-aa6f-7e4ab0f1cc34",
   "metadata": {},
   "source": [
    "## Question 6\n",
    "\n",
    "Now let's train an XGBoost model! For this question, we'll tune the `eta` parameter:\n",
    "\n",
    "* Install XGBoost\n",
    "* Create DMatrix for train and validation\n",
    "* Create a watchlist\n",
    "* Train a model with these parameters for 100 rounds:\n",
    "\n",
    "```\n",
    "xgb_params = {\n",
    "    'eta': 0.3, \n",
    "    'max_depth': 6,\n",
    "    'min_child_weight': 1,\n",
    "    \n",
    "    'objective': 'reg:squarederror',\n",
    "    'nthread': 8,\n",
    "    \n",
    "    'seed': 1,\n",
    "    'verbosity': 1,\n",
    "}\n",
    "```\n",
    "\n",
    "Now change `eta` from `0.3` to `0.1`.\n",
    "\n",
    "Which eta leads to the best RMSE score on the validation dataset?\n",
    "\n",
    "* **0.3**\n",
    "* 0.1\n",
    "* Both give equal value"
   ]
  },
  {
   "cell_type": "code",
   "execution_count": 37,
   "id": "f0b413bf-476a-41f5-97ca-08f54dadb280",
   "metadata": {},
   "outputs": [
    {
     "name": "stderr",
     "output_type": "stream",
     "text": [
      "/Users/wladimir/mambaforge/lib/python3.10/site-packages/xgboost/data.py:440: FutureWarning: is_sparse is deprecated and will be removed in a future version. Check `isinstance(dtype, pd.SparseDtype)` instead.\n",
      "  if is_sparse(data):\n"
     ]
    }
   ],
   "source": [
    "import xgboost as xgb\n",
    "features = dv.get_feature_names_out()\n",
    "features[5] = 'ocean_proximity=H OCEAN'\n",
    "dtrain = xgb.DMatrix(X_train, label=y_train, feature_names=features)\n",
    "dval = xgb.DMatrix(X_val, label=y_val, feature_names=features)\n",
    "watchlist = [(dtrain, 'train'), (dval, 'val')]"
   ]
  },
  {
   "cell_type": "code",
   "execution_count": 43,
   "id": "cb03be61-0ccb-42cd-a78f-cf3027f3a811",
   "metadata": {},
   "outputs": [
    {
     "name": "stdout",
     "output_type": "stream",
     "text": [
      "[0]\ttrain-rmse:8.07362\tval-rmse:8.07348\n",
      "[5]\ttrain-rmse:1.38983\tval-rmse:1.38852\n",
      "[10]\ttrain-rmse:0.33195\tval-rmse:0.34802\n",
      "[15]\ttrain-rmse:0.22197\tval-rmse:0.25614\n",
      "[20]\ttrain-rmse:0.20036\tval-rmse:0.24508\n",
      "[25]\ttrain-rmse:0.18991\tval-rmse:0.24021\n",
      "[30]\ttrain-rmse:0.18204\tval-rmse:0.23833\n",
      "[35]\ttrain-rmse:0.17091\tval-rmse:0.23452\n",
      "[40]\ttrain-rmse:0.16422\tval-rmse:0.23379\n",
      "[45]\ttrain-rmse:0.15756\tval-rmse:0.23302\n",
      "[50]\ttrain-rmse:0.15210\tval-rmse:0.23262\n",
      "[55]\ttrain-rmse:0.14633\tval-rmse:0.23167\n",
      "[60]\ttrain-rmse:0.14218\tval-rmse:0.23160\n",
      "[65]\ttrain-rmse:0.13898\tval-rmse:0.23169\n",
      "[70]\ttrain-rmse:0.13471\tval-rmse:0.23108\n",
      "[75]\ttrain-rmse:0.13072\tval-rmse:0.23036\n",
      "[80]\ttrain-rmse:0.12835\tval-rmse:0.23045\n",
      "[85]\ttrain-rmse:0.12534\tval-rmse:0.23010\n",
      "[90]\ttrain-rmse:0.12174\tval-rmse:0.22957\n",
      "[95]\ttrain-rmse:0.11894\tval-rmse:0.22906\n",
      "[99]\ttrain-rmse:0.11656\tval-rmse:0.22897\n"
     ]
    }
   ],
   "source": [
    "xgb_params = {\n",
    "    'eta': 0.3, \n",
    "    'max_depth': 6,\n",
    "    'min_child_weight': 1,\n",
    "    \n",
    "    'objective': 'reg:squarederror',\n",
    "    'nthread': 8,\n",
    "    \n",
    "    'seed': 1,\n",
    "    'verbosity': 1,\n",
    "}\n",
    "\n",
    "model = xgb.train(xgb_params, dtrain, evals=watchlist, verbose_eval=5, num_boost_round=100)"
   ]
  },
  {
   "cell_type": "code",
   "execution_count": 44,
   "id": "812b7376-52b2-4a6d-b4a8-3e1069edf6bc",
   "metadata": {},
   "outputs": [
    {
     "data": {
      "text/plain": [
       "0.229"
      ]
     },
     "execution_count": 44,
     "metadata": {},
     "output_type": "execute_result"
    }
   ],
   "source": [
    "y_pred = model.predict(dval)\n",
    "rmse = np.sqrt(mean_squared_error(y_val, y_pred))\n",
    "rmse.round(3)"
   ]
  },
  {
   "cell_type": "code",
   "execution_count": 46,
   "id": "4997c663-aacc-49a6-94cf-b4eecb6f90ee",
   "metadata": {},
   "outputs": [
    {
     "name": "stdout",
     "output_type": "stream",
     "text": [
      "[0]\ttrain-rmse:10.37456\tval-rmse:10.37545\n",
      "[5]\ttrain-rmse:6.13433\tval-rmse:6.13236\n",
      "[10]\ttrain-rmse:3.63299\tval-rmse:3.62939\n",
      "[15]\ttrain-rmse:2.15901\tval-rmse:2.15616\n",
      "[20]\ttrain-rmse:1.29412\tval-rmse:1.29329\n",
      "[25]\ttrain-rmse:0.78993\tval-rmse:0.79342\n",
      "[30]\ttrain-rmse:0.50217\tval-rmse:0.51149\n",
      "[35]\ttrain-rmse:0.34590\tval-rmse:0.36371\n",
      "[40]\ttrain-rmse:0.26743\tval-rmse:0.29345\n",
      "[45]\ttrain-rmse:0.23014\tval-rmse:0.26315\n",
      "[50]\ttrain-rmse:0.21112\tval-rmse:0.24907\n",
      "[55]\ttrain-rmse:0.20315\tval-rmse:0.24427\n",
      "[60]\ttrain-rmse:0.19724\tval-rmse:0.24107\n",
      "[65]\ttrain-rmse:0.19264\tval-rmse:0.23932\n",
      "[70]\ttrain-rmse:0.18911\tval-rmse:0.23824\n",
      "[75]\ttrain-rmse:0.18503\tval-rmse:0.23731\n",
      "[80]\ttrain-rmse:0.18145\tval-rmse:0.23594\n",
      "[85]\ttrain-rmse:0.17807\tval-rmse:0.23475\n",
      "[90]\ttrain-rmse:0.17418\tval-rmse:0.23307\n",
      "[95]\ttrain-rmse:0.17149\tval-rmse:0.23258\n",
      "[99]\ttrain-rmse:0.17000\tval-rmse:0.23234\n"
     ]
    }
   ],
   "source": [
    "xgb_params = {\n",
    "    'eta': 0.1, \n",
    "    'max_depth': 6,\n",
    "    'min_child_weight': 1,\n",
    "    \n",
    "    'objective': 'reg:squarederror',\n",
    "    'nthread': 8,\n",
    "    \n",
    "    'seed': 1,\n",
    "    'verbosity': 1,\n",
    "}\n",
    "model = xgb.train(xgb_params, dtrain, verbose_eval=5, evals=watchlist, num_boost_round=100)"
   ]
  },
  {
   "cell_type": "code",
   "execution_count": 47,
   "id": "9abf3aed-7ebf-4a70-bf62-fb568f07abd4",
   "metadata": {},
   "outputs": [
    {
     "data": {
      "text/plain": [
       "0.232"
      ]
     },
     "execution_count": 47,
     "metadata": {},
     "output_type": "execute_result"
    }
   ],
   "source": [
    "y_pred = model.predict(dval)\n",
    "rmse = np.sqrt(mean_squared_error(y_val, y_pred))\n",
    "rmse.round(3)"
   ]
  },
  {
   "cell_type": "markdown",
   "id": "06c19948-707d-4f87-917a-8b5d5809be94",
   "metadata": {},
   "source": [
    "## Submit the results\n",
    "\n",
    "- Submit your results here: https://forms.gle/Qa2SuzG7QGZNCaoV9\n",
    "- If your answer doesn't match options exactly, select the closest one.\n",
    "- You can submit your solution multiple times. In this case, only the last submission will be used\n",
    "\n",
    "## Deadline\n",
    "\n",
    "The deadline for submitting is October 23 (Monday), 23:00 CET. After that the form will be closed."
   ]
  },
  {
   "cell_type": "code",
   "execution_count": null,
   "id": "c93a1a7b-ffeb-4eb9-a277-ec315da6b46e",
   "metadata": {},
   "outputs": [],
   "source": []
  }
 ],
 "metadata": {
  "kernelspec": {
   "display_name": "Python 3 (ipykernel)",
   "language": "python",
   "name": "python3"
  },
  "language_info": {
   "codemirror_mode": {
    "name": "ipython",
    "version": 3
   },
   "file_extension": ".py",
   "mimetype": "text/x-python",
   "name": "python",
   "nbconvert_exporter": "python",
   "pygments_lexer": "ipython3",
   "version": "3.10.12"
  }
 },
 "nbformat": 4,
 "nbformat_minor": 5
}
