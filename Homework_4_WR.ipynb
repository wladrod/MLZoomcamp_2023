{
 "cells": [
  {
   "cell_type": "markdown",
   "id": "21acef23-c363-40b0-ac8d-ea692326d8c0",
   "metadata": {},
   "source": [
    "## Homework 4\n",
    "\n",
    "> Note: sometimes your answer doesn't match one of \n",
    "> the options exactly. That's fine. \n",
    "> Select the option that's closest to your solution.\n",
    "\n",
    "\n",
    "In this homework, we will use the Car price dataset like last week. Download it from [here](https://raw.githubusercontent.com/alexeygrigorev/mlbookcamp-code/master/chapter-02-car-price/data.csv).\n",
    "\n",
    "Or you can do it with `wget`:\n",
    "\n",
    "```bash\n",
    "wget https://raw.githubusercontent.com/alexeygrigorev/mlbookcamp-code/master/chapter-02-car-price/data.csv\n",
    "```"
   ]
  },
  {
   "cell_type": "code",
   "execution_count": 1,
   "id": "eb059474-919c-49af-ac95-6395d57ed513",
   "metadata": {},
   "outputs": [],
   "source": [
    "import pandas as pd\n",
    "import numpy as np\n",
    "import matplotlib.pyplot as plt\n",
    "from sklearn.model_selection import train_test_split"
   ]
  },
  {
   "cell_type": "markdown",
   "id": "f67f1d9f-1718-42c3-9511-e257faeef557",
   "metadata": {},
   "source": [
    "We'll work with the `MSRP` variable, and we'll transform it to a classification task. \n",
    "\n",
    "For the rest of the homework, you'll need to use only these columns:\n",
    "\n",
    "* `Make`,\n",
    "* `Model`,\n",
    "* `Year`,\n",
    "* `Engine HP`,\n",
    "* `Engine Cylinders`,\n",
    "* `Transmission Type`,\n",
    "* `Vehicle Style`,\n",
    "* `highway MPG`,\n",
    "* `city mpg`\n",
    "* `MSRP`"
   ]
  },
  {
   "cell_type": "markdown",
   "id": "09be456c-0305-4246-9539-55c1c54ef5c3",
   "metadata": {},
   "source": [
    "### Data preparation\n",
    "\n",
    "* Keep only the columns above\n",
    "* Lowercase the column names and replace spaces with underscores\n",
    "* Fill the missing values with 0 \n",
    "* Make the price binary (1 if above the average, 0 otherwise) - this will be our target variable `above_average`\n",
    "\n",
    "Split the data into 3 parts: train/validation/test with 60%/20%/20% distribution. Use `train_test_split` function for that with `random_state=1`"
   ]
  },
  {
   "cell_type": "code",
   "execution_count": 2,
   "id": "256603a2-08d7-4ce5-97ff-d15093ad42c5",
   "metadata": {},
   "outputs": [
    {
     "data": {
      "text/html": [
       "<div>\n",
       "<style scoped>\n",
       "    .dataframe tbody tr th:only-of-type {\n",
       "        vertical-align: middle;\n",
       "    }\n",
       "\n",
       "    .dataframe tbody tr th {\n",
       "        vertical-align: top;\n",
       "    }\n",
       "\n",
       "    .dataframe thead th {\n",
       "        text-align: right;\n",
       "    }\n",
       "</style>\n",
       "<table border=\"1\" class=\"dataframe\">\n",
       "  <thead>\n",
       "    <tr style=\"text-align: right;\">\n",
       "      <th></th>\n",
       "      <th>make</th>\n",
       "      <th>model</th>\n",
       "      <th>year</th>\n",
       "      <th>engine_hp</th>\n",
       "      <th>engine_cylinders</th>\n",
       "      <th>transmission_type</th>\n",
       "      <th>vehicle_style</th>\n",
       "      <th>highway_mpg</th>\n",
       "      <th>city_mpg</th>\n",
       "      <th>msrp</th>\n",
       "    </tr>\n",
       "  </thead>\n",
       "  <tbody>\n",
       "    <tr>\n",
       "      <th>0</th>\n",
       "      <td>BMW</td>\n",
       "      <td>1 Series M</td>\n",
       "      <td>2011</td>\n",
       "      <td>335.0</td>\n",
       "      <td>6.0</td>\n",
       "      <td>MANUAL</td>\n",
       "      <td>Coupe</td>\n",
       "      <td>26</td>\n",
       "      <td>19</td>\n",
       "      <td>46135</td>\n",
       "    </tr>\n",
       "    <tr>\n",
       "      <th>1</th>\n",
       "      <td>BMW</td>\n",
       "      <td>1 Series</td>\n",
       "      <td>2011</td>\n",
       "      <td>300.0</td>\n",
       "      <td>6.0</td>\n",
       "      <td>MANUAL</td>\n",
       "      <td>Convertible</td>\n",
       "      <td>28</td>\n",
       "      <td>19</td>\n",
       "      <td>40650</td>\n",
       "    </tr>\n",
       "    <tr>\n",
       "      <th>2</th>\n",
       "      <td>BMW</td>\n",
       "      <td>1 Series</td>\n",
       "      <td>2011</td>\n",
       "      <td>300.0</td>\n",
       "      <td>6.0</td>\n",
       "      <td>MANUAL</td>\n",
       "      <td>Coupe</td>\n",
       "      <td>28</td>\n",
       "      <td>20</td>\n",
       "      <td>36350</td>\n",
       "    </tr>\n",
       "    <tr>\n",
       "      <th>3</th>\n",
       "      <td>BMW</td>\n",
       "      <td>1 Series</td>\n",
       "      <td>2011</td>\n",
       "      <td>230.0</td>\n",
       "      <td>6.0</td>\n",
       "      <td>MANUAL</td>\n",
       "      <td>Coupe</td>\n",
       "      <td>28</td>\n",
       "      <td>18</td>\n",
       "      <td>29450</td>\n",
       "    </tr>\n",
       "    <tr>\n",
       "      <th>4</th>\n",
       "      <td>BMW</td>\n",
       "      <td>1 Series</td>\n",
       "      <td>2011</td>\n",
       "      <td>230.0</td>\n",
       "      <td>6.0</td>\n",
       "      <td>MANUAL</td>\n",
       "      <td>Convertible</td>\n",
       "      <td>28</td>\n",
       "      <td>18</td>\n",
       "      <td>34500</td>\n",
       "    </tr>\n",
       "  </tbody>\n",
       "</table>\n",
       "</div>"
      ],
      "text/plain": [
       "  make       model  year  engine_hp  engine_cylinders transmission_type  \\\n",
       "0  BMW  1 Series M  2011      335.0               6.0            MANUAL   \n",
       "1  BMW    1 Series  2011      300.0               6.0            MANUAL   \n",
       "2  BMW    1 Series  2011      300.0               6.0            MANUAL   \n",
       "3  BMW    1 Series  2011      230.0               6.0            MANUAL   \n",
       "4  BMW    1 Series  2011      230.0               6.0            MANUAL   \n",
       "\n",
       "  vehicle_style  highway_mpg  city_mpg   msrp  \n",
       "0         Coupe           26        19  46135  \n",
       "1   Convertible           28        19  40650  \n",
       "2         Coupe           28        20  36350  \n",
       "3         Coupe           28        18  29450  \n",
       "4   Convertible           28        18  34500  "
      ]
     },
     "execution_count": 2,
     "metadata": {},
     "output_type": "execute_result"
    }
   ],
   "source": [
    "df = pd.read_csv('data/data.csv')\n",
    "columns = ['Make', 'Model', 'Year', 'Engine HP', 'Engine Cylinders', 'Transmission Type', 'Vehicle Style', 'highway MPG', 'city mpg', 'MSRP']\n",
    "df = df[columns]\n",
    "df.columns = df.columns.str.replace(' ', '_').str.lower()\n",
    "df = df.fillna(0)\n",
    "df.head()"
   ]
  },
  {
   "cell_type": "code",
   "execution_count": 3,
   "id": "7820e94d-b269-4287-8008-aa178fd6e623",
   "metadata": {},
   "outputs": [],
   "source": [
    "y = df.msrp\n",
    "df = df.drop(['msrp'], axis=1)\n",
    "above_average = np.mean(y)\n",
    "y = [int(x > above_average) for x in y]"
   ]
  },
  {
   "cell_type": "code",
   "execution_count": 4,
   "id": "e4324da3-94e9-4643-979f-a2a26aded152",
   "metadata": {},
   "outputs": [
    {
     "data": {
      "text/plain": [
       "(7148, 2383, 2383)"
      ]
     },
     "execution_count": 4,
     "metadata": {},
     "output_type": "execute_result"
    }
   ],
   "source": [
    "df_full_train,  df_test, y_full_train, y_test = train_test_split(df, y, test_size=0.2, random_state=1)\n",
    "df_train, df_val, y_train, y_val = train_test_split(df_full_train, y_full_train, test_size=0.25, random_state=1)\n",
    "len(df_train), len(df_val), len(df_test)"
   ]
  },
  {
   "cell_type": "markdown",
   "id": "cbfa24d9-e641-445a-84d3-d836936cedad",
   "metadata": {},
   "source": [
    "### Question 1: ROC AUC feature importance\n",
    "\n",
    "ROC AUC could also be used to evaluate feature importance of numerical variables. \n",
    "\n",
    "Let's do that\n",
    "\n",
    "* For each numerical variable, use it as score and compute AUC with the `above_average` variable\n",
    "* Use the training dataset for that\n",
    "\n",
    "\n",
    "If your AUC is < 0.5, invert this variable by putting \"-\" in front\n",
    "\n",
    "(e.g. `-df_train['engine_hp']`)\n",
    "\n",
    "AUC can go below 0.5 if the variable is negatively correlated with the target varialble. You can change the direction of the correlation by negating this variable - then negative correlation becomes positive.\n",
    "\n",
    "Which numerical variable (among the following 4) has the highest AUC?\n",
    "\n",
    "- **`engine_hp`**\n",
    "- `engine_cylinders`\n",
    "- `highway_mpg`\n",
    "- `city_mpg`"
   ]
  },
  {
   "cell_type": "code",
   "execution_count": 5,
   "id": "23326e88-d309-41c0-99cc-ad4fc8f2b0db",
   "metadata": {},
   "outputs": [
    {
     "name": "stdout",
     "output_type": "stream",
     "text": [
      "year: 0.688\n",
      "engine_hp: 0.917\n",
      "engine_cylinders: 0.766\n",
      "highway_mpg: 0.633\n",
      "city_mpg: 0.673\n"
     ]
    }
   ],
   "source": [
    "from sklearn.metrics import roc_curve, auc\n",
    "columns = ['year', 'engine_hp', 'engine_cylinders', 'highway_mpg', 'city_mpg']\n",
    "for column in columns:\n",
    "    fpr, tpr, thresholds = roc_curve(y_train, df_train[column], pos_label=1)\n",
    "    area = auc(fpr, tpr)\n",
    "    if area < 0.5:\n",
    "        fpr, tpr, thresholds = roc_curve(y_train, -df_train[column], pos_label=1)\n",
    "        area = auc(fpr, tpr)\n",
    "    print(f'{column}: {area:.3f}')"
   ]
  },
  {
   "cell_type": "markdown",
   "id": "53451f9d-760d-4444-af81-d6463cdb5cf3",
   "metadata": {},
   "source": [
    "### Question 2: Training the model\n",
    "\n",
    "Apply one-hot-encoding using `DictVectorizer` and train the logistic regression with these parameters:\n",
    "\n",
    "```python\n",
    "LogisticRegression(solver='liblinear', C=1.0, max_iter=1000)\n",
    "```\n",
    "\n",
    "What's the AUC of this model on the validation dataset? (round to 3 digits)\n",
    "\n",
    "- 0.678\n",
    "- 0.779\n",
    "- 0.878\n",
    "- **0.979**"
   ]
  },
  {
   "cell_type": "code",
   "execution_count": 6,
   "id": "97b937f9-4bf9-4b7c-86cd-21254cd6735c",
   "metadata": {},
   "outputs": [],
   "source": [
    "from sklearn.feature_extraction import DictVectorizer\n",
    "numerical = ['year', 'engine_hp', 'engine_cylinders', 'highway_mpg', 'city_mpg']\n",
    "categorical = ['make', 'model', 'transmission_type', 'vehicle_style']\n",
    "train_dicts = df_train[categorical + numerical].to_dict(orient='records')\n",
    "dv = DictVectorizer(sparse=False)\n",
    "X_train = dv.fit_transform(train_dicts)\n",
    "val_dicts = df_val[categorical + numerical].to_dict(orient='records')\n",
    "X_val = dv.transform(val_dicts)"
   ]
  },
  {
   "cell_type": "code",
   "execution_count": 7,
   "id": "dbcbbd20-0b52-4049-9bf3-236e000b5948",
   "metadata": {},
   "outputs": [
    {
     "data": {
      "text/plain": [
       "0.98"
      ]
     },
     "execution_count": 7,
     "metadata": {},
     "output_type": "execute_result"
    }
   ],
   "source": [
    "from sklearn.linear_model import LogisticRegression\n",
    "model = LogisticRegression(solver='liblinear', C=1.0, max_iter=1000)\n",
    "model.fit(X_train, y_train)\n",
    "y_pred = model.predict_proba(X_val)[:, 1]\n",
    "fpr, tpr, thresholds = roc_curve(y_val, y_pred, pos_label=1)\n",
    "auc(fpr, tpr).round(3)"
   ]
  },
  {
   "cell_type": "markdown",
   "id": "f6fe18ed-4a4f-4687-b148-b88c2ca17b52",
   "metadata": {},
   "source": [
    "### Question 3: Precision and Recall\n",
    "\n",
    "Now let's compute precision and recall for our model.\n",
    "\n",
    "* Evaluate the model on all thresholds from 0.0 to 1.0 with step 0.01\n",
    "* For each threshold, compute precision and recall\n",
    "* Plot them\n",
    "\n",
    "At which threshold precision and recall curves intersect?\n",
    "\n",
    "* 0.28\n",
    "* **0.48**\n",
    "* 0.68\n",
    "* 0.88"
   ]
  },
  {
   "cell_type": "code",
   "execution_count": 8,
   "id": "f7af978f-1b4d-43d0-a2c8-d2d5b1657331",
   "metadata": {},
   "outputs": [],
   "source": [
    "from collections import Counter\n",
    "actual_negative = [ 1 if y < 0.50 else 0 for y in y_val]\n",
    "actual_positive = [ 1 if y >= 0.50 else 0 for y in y_val]\n",
    "y_pred = model.predict_proba(X_val)\n",
    "scores = []\n",
    "thresholds = np.linspace(0, 1, 101)\n",
    "\n",
    "for t in thresholds:\n",
    "    \n",
    "    predict_positive = (y_pred[:,1] >= t)\n",
    "    predict_negative = (y_pred[:,1] < t)\n",
    "\n",
    "    tp = (actual_positive & predict_positive).sum()\n",
    "    tn = (predict_negative & actual_negative).sum()\n",
    "\n",
    "    fp = (predict_positive & actual_negative).sum()\n",
    "    fn = (predict_negative & actual_positive).sum()\n",
    "    \n",
    "    scores.append((t, tp, fp, fn, tn))"
   ]
  },
  {
   "cell_type": "code",
   "execution_count": 9,
   "id": "43f9a4c6-5e39-4acb-8030-eb2a41af9b16",
   "metadata": {},
   "outputs": [],
   "source": [
    "columns = ['threshold', 'tp', 'fp', 'fn', 'tn']\n",
    "df_scores = pd.DataFrame(scores, columns=columns)\n",
    "df_scores['precision'] = (df_scores['tp'] / (df_scores['tp'] + df_scores['fp'])).round(3)\n",
    "df_scores['recall'] = (df_scores['tp'] / (df_scores['tp'] + df_scores['fn'])).round(3)"
   ]
  },
  {
   "cell_type": "code",
   "execution_count": 10,
   "id": "275fda63-7bc1-4612-b292-78d434405fc8",
   "metadata": {},
   "outputs": [
    {
     "data": {
      "text/plain": [
       "<matplotlib.legend.Legend at 0x1496601f0>"
      ]
     },
     "execution_count": 10,
     "metadata": {},
     "output_type": "execute_result"
    },
    {
     "data": {
      "image/png": "[encoded data removed]",
      "text/plain": [
       "<Figure size 640x480 with 1 Axes>"
      ]
     },
     "metadata": {},
     "output_type": "display_data"
    }
   ],
   "source": [
    "plt.plot(df_scores.threshold, df_scores['precision'], label='precisiom')\n",
    "plt.plot(df_scores.threshold, df_scores['recall'], label='recall')\n",
    "plt.legend()"
   ]
  },
  {
   "cell_type": "markdown",
   "id": "e8afd1d6-7ead-426e-911a-2a2320ca8930",
   "metadata": {},
   "source": [
    "### Question 4: F1 score\n",
    "\n",
    "Precision and recall are conflicting - when one grows, the other goes down. That's why they are often combined into the F1 score - a metrics that takes into account both\n",
    "\n",
    "This is the formula for computing F1:\n",
    "\n",
    "$$F_1 = 2 \\cdot \\cfrac{P \\cdot R}{P + R}$$\n",
    "\n",
    "Where $P$ is precision and $R$ is recall.\n",
    "\n",
    "Let's compute F1 for all thresholds from 0.0 to 1.0 with increment 0.01\n",
    "\n",
    "At which threshold F1 is maximal?\n",
    "\n",
    "- 0.12\n",
    "- 0.32\n",
    "- **0.52**\n",
    "- 0.72"
   ]
  },
  {
   "cell_type": "code",
   "execution_count": 11,
   "id": "e366c9b2-e916-44a2-bb18-ef97d9da26a3",
   "metadata": {},
   "outputs": [
    {
     "data": {
      "text/plain": [
       "[<matplotlib.lines.Line2D at 0x14eb6c0d0>]"
      ]
     },
     "execution_count": 11,
     "metadata": {},
     "output_type": "execute_result"
    },
    {
     "data": {
      "image/png": "[encoded data removed]",
      "text/plain": [
       "<Figure size 640x480 with 1 Axes>"
      ]
     },
     "metadata": {},
     "output_type": "display_data"
    }
   ],
   "source": [
    "df_scores['F1'] = 2 * (df_scores['precision'] * df_scores['recall']) / (df_scores['precision'] + df_scores['recall'])\n",
    "plt.plot(df_scores.threshold, df_scores['F1'], label='F1')"
   ]
  },
  {
   "cell_type": "code",
   "execution_count": 12,
   "id": "64b2ef01-030b-4999-8311-5cffaa98f725",
   "metadata": {},
   "outputs": [
    {
     "data": {
      "text/html": [
       "<div>\n",
       "<style scoped>\n",
       "    .dataframe tbody tr th:only-of-type {\n",
       "        vertical-align: middle;\n",
       "    }\n",
       "\n",
       "    .dataframe tbody tr th {\n",
       "        vertical-align: top;\n",
       "    }\n",
       "\n",
       "    .dataframe thead th {\n",
       "        text-align: right;\n",
       "    }\n",
       "</style>\n",
       "<table border=\"1\" class=\"dataframe\">\n",
       "  <thead>\n",
       "    <tr style=\"text-align: right;\">\n",
       "      <th></th>\n",
       "      <th>threshold</th>\n",
       "      <th>tp</th>\n",
       "      <th>fp</th>\n",
       "      <th>fn</th>\n",
       "      <th>tn</th>\n",
       "      <th>precision</th>\n",
       "      <th>recall</th>\n",
       "      <th>F1</th>\n",
       "    </tr>\n",
       "  </thead>\n",
       "  <tbody>\n",
       "    <tr>\n",
       "      <th>44</th>\n",
       "      <td>0.44</td>\n",
       "      <td>589</td>\n",
       "      <td>81</td>\n",
       "      <td>65</td>\n",
       "      <td>1648</td>\n",
       "      <td>0.879</td>\n",
       "      <td>0.901</td>\n",
       "      <td>0.889864</td>\n",
       "    </tr>\n",
       "    <tr>\n",
       "      <th>42</th>\n",
       "      <td>0.42</td>\n",
       "      <td>593</td>\n",
       "      <td>87</td>\n",
       "      <td>61</td>\n",
       "      <td>1642</td>\n",
       "      <td>0.872</td>\n",
       "      <td>0.907</td>\n",
       "      <td>0.889156</td>\n",
       "    </tr>\n",
       "    <tr>\n",
       "      <th>48</th>\n",
       "      <td>0.48</td>\n",
       "      <td>583</td>\n",
       "      <td>74</td>\n",
       "      <td>71</td>\n",
       "      <td>1655</td>\n",
       "      <td>0.887</td>\n",
       "      <td>0.891</td>\n",
       "      <td>0.888996</td>\n",
       "    </tr>\n",
       "    <tr>\n",
       "      <th>47</th>\n",
       "      <td>0.47</td>\n",
       "      <td>583</td>\n",
       "      <td>74</td>\n",
       "      <td>71</td>\n",
       "      <td>1655</td>\n",
       "      <td>0.887</td>\n",
       "      <td>0.891</td>\n",
       "      <td>0.888996</td>\n",
       "    </tr>\n",
       "    <tr>\n",
       "      <th>46</th>\n",
       "      <td>0.46</td>\n",
       "      <td>584</td>\n",
       "      <td>76</td>\n",
       "      <td>70</td>\n",
       "      <td>1653</td>\n",
       "      <td>0.885</td>\n",
       "      <td>0.893</td>\n",
       "      <td>0.888982</td>\n",
       "    </tr>\n",
       "    <tr>\n",
       "      <th>...</th>\n",
       "      <td>...</td>\n",
       "      <td>...</td>\n",
       "      <td>...</td>\n",
       "      <td>...</td>\n",
       "      <td>...</td>\n",
       "      <td>...</td>\n",
       "      <td>...</td>\n",
       "      <td>...</td>\n",
       "    </tr>\n",
       "    <tr>\n",
       "      <th>97</th>\n",
       "      <td>0.97</td>\n",
       "      <td>254</td>\n",
       "      <td>1</td>\n",
       "      <td>400</td>\n",
       "      <td>1728</td>\n",
       "      <td>0.996</td>\n",
       "      <td>0.388</td>\n",
       "      <td>0.558451</td>\n",
       "    </tr>\n",
       "    <tr>\n",
       "      <th>98</th>\n",
       "      <td>0.98</td>\n",
       "      <td>234</td>\n",
       "      <td>0</td>\n",
       "      <td>420</td>\n",
       "      <td>1729</td>\n",
       "      <td>1.000</td>\n",
       "      <td>0.358</td>\n",
       "      <td>0.527246</td>\n",
       "    </tr>\n",
       "    <tr>\n",
       "      <th>99</th>\n",
       "      <td>0.99</td>\n",
       "      <td>193</td>\n",
       "      <td>0</td>\n",
       "      <td>461</td>\n",
       "      <td>1729</td>\n",
       "      <td>1.000</td>\n",
       "      <td>0.295</td>\n",
       "      <td>0.455598</td>\n",
       "    </tr>\n",
       "    <tr>\n",
       "      <th>0</th>\n",
       "      <td>0.00</td>\n",
       "      <td>654</td>\n",
       "      <td>1729</td>\n",
       "      <td>0</td>\n",
       "      <td>0</td>\n",
       "      <td>0.274</td>\n",
       "      <td>1.000</td>\n",
       "      <td>0.430141</td>\n",
       "    </tr>\n",
       "    <tr>\n",
       "      <th>100</th>\n",
       "      <td>1.00</td>\n",
       "      <td>0</td>\n",
       "      <td>0</td>\n",
       "      <td>654</td>\n",
       "      <td>1729</td>\n",
       "      <td>NaN</td>\n",
       "      <td>0.000</td>\n",
       "      <td>NaN</td>\n",
       "    </tr>\n",
       "  </tbody>\n",
       "</table>\n",
       "<p>101 rows × 8 columns</p>\n",
       "</div>"
      ],
      "text/plain": [
       "     threshold   tp    fp   fn    tn  precision  recall        F1\n",
       "44        0.44  589    81   65  1648      0.879   0.901  0.889864\n",
       "42        0.42  593    87   61  1642      0.872   0.907  0.889156\n",
       "48        0.48  583    74   71  1655      0.887   0.891  0.888996\n",
       "47        0.47  583    74   71  1655      0.887   0.891  0.888996\n",
       "46        0.46  584    76   70  1653      0.885   0.893  0.888982\n",
       "..         ...  ...   ...  ...   ...        ...     ...       ...\n",
       "97        0.97  254     1  400  1728      0.996   0.388  0.558451\n",
       "98        0.98  234     0  420  1729      1.000   0.358  0.527246\n",
       "99        0.99  193     0  461  1729      1.000   0.295  0.455598\n",
       "0         0.00  654  1729    0     0      0.274   1.000  0.430141\n",
       "100       1.00    0     0  654  1729        NaN   0.000       NaN\n",
       "\n",
       "[101 rows x 8 columns]"
      ]
     },
     "execution_count": 12,
     "metadata": {},
     "output_type": "execute_result"
    }
   ],
   "source": [
    "df_scores.sort_values('F1', ascending=False)"
   ]
  },
  {
   "cell_type": "markdown",
   "id": "823ad111-446b-4c10-895c-1fc0387bb1a2",
   "metadata": {},
   "source": [
    "### Question 5: 5-Fold CV\n",
    "\n",
    "\n",
    "Use the `KFold` class from Scikit-Learn to evaluate our model on 5 different folds:\n",
    "\n",
    "```\n",
    "KFold(n_splits=5, shuffle=True, random_state=1)\n",
    "```\n",
    "\n",
    "* Iterate over different folds of `df_full_train`\n",
    "* Split the data into train and validation\n",
    "* Train the model on train with these parameters: `LogisticRegression(solver='liblinear', C=1.0, max_iter=1000)`\n",
    "* Use AUC to evaluate the model on validation\n",
    "\n",
    "How large is standard devidation of the scores across different folds?\n",
    "\n",
    "- **0.003**\n",
    "- 0.030\n",
    "- 0.090\n",
    "- 0.140"
   ]
  },
  {
   "cell_type": "code",
   "execution_count": 13,
   "id": "7b2f5a69-4471-4ee0-91d9-cb7e91b9b14c",
   "metadata": {},
   "outputs": [],
   "source": [
    "full_train_dicts = df_full_train.to_dict(orient='records')\n",
    "dv = DictVectorizer(sparse=False)\n",
    "X_full_train = dv.fit_transform(full_train_dicts)"
   ]
  },
  {
   "cell_type": "code",
   "execution_count": 14,
   "id": "e1c2122e-535a-4bf7-a5b3-aac87faecb2f",
   "metadata": {},
   "outputs": [
    {
     "data": {
      "text/plain": [
       "0.002"
      ]
     },
     "execution_count": 14,
     "metadata": {},
     "output_type": "execute_result"
    }
   ],
   "source": [
    "from sklearn.model_selection import KFold\n",
    "from sklearn.metrics import roc_auc_score\n",
    "\n",
    "kfold = KFold(n_splits=5, shuffle=True, random_state=1)\n",
    "model = LogisticRegression(solver='liblinear', C=1.0, max_iter=1000)\n",
    "scores = []\n",
    "for train_idx, val_idx in kfold.split(X_full_train):\n",
    "        df_train = [X_full_train[i] for i in train_idx]\n",
    "        df_val = [X_full_train[i] for i in val_idx]\n",
    "\n",
    "        y_train = [y_full_train[i] for i in train_idx]\n",
    "        y_val = [y_full_train[i] for i in val_idx]\n",
    "\n",
    "        model.fit(df_train, y_train)\n",
    "        y_pred = model.predict_proba(df_val)[:, 1]\n",
    "\n",
    "        auc = roc_auc_score(y_val, y_pred)\n",
    "        scores.append(auc)\n",
    "    \n",
    "np.std(scores).round(3)"
   ]
  },
  {
   "cell_type": "markdown",
   "id": "effc72d2-aff2-4c84-b26c-75c45fe5fb58",
   "metadata": {},
   "source": [
    "### Question 6: Hyperparemeter Tuning\n",
    "\n",
    "Now let's use 5-Fold cross-validation to find the best parameter `C`\n",
    "\n",
    "* Iterate over the following `C` values: `[0.01, 0.1, 0.5, 10]`\n",
    "* Initialize `KFold` with the same parameters as previously\n",
    "* Use these parametes for the model: `LogisticRegression(solver='liblinear', C=C, max_iter=1000)`\n",
    "* Compute the mean score as well as the std (round the mean and std to 3 decimal digits)\n",
    "\n",
    "Which `C` leads to the best mean score?\n",
    "\n",
    "- 0.01\n",
    "- 0.1\n",
    "- 0.5\n",
    "- **10**\n",
    "\n",
    "If you have ties, select the score with the lowest std. If you still have ties, select the smallest `C`.\n"
   ]
  },
  {
   "cell_type": "code",
   "execution_count": 15,
   "id": "21756cd9-82e9-44b9-82e3-09176cf26248",
   "metadata": {},
   "outputs": [
    {
     "name": "stdout",
     "output_type": "stream",
     "text": [
      "C= 0.01 0.952 +- 0.002\n",
      "C= 0.1 0.972 +- 0.001\n",
      "C= 0.5 0.978 +- 0.003\n",
      "C= 10 0.983 +- 0.003\n"
     ]
    }
   ],
   "source": [
    "for C in [0.01, 0.1, 0.5, 10]:\n",
    "    kfold = KFold(n_splits=5, shuffle=True, random_state=1)\n",
    "    model = LogisticRegression(solver='liblinear', C=C, max_iter=1000)\n",
    "    scores = []\n",
    "    for train_idx, val_idx in kfold.split(X_full_train):\n",
    "            df_train = [X_full_train[i] for i in train_idx]\n",
    "            df_val = [X_full_train[i] for i in val_idx]\n",
    "    \n",
    "            y_train = [y_full_train[i] for i in train_idx]\n",
    "            y_val = [y_full_train[i] for i in val_idx]\n",
    "    \n",
    "            model.fit(df_train, y_train)\n",
    "            y_pred = model.predict_proba(df_val)[:, 1]\n",
    "    \n",
    "            auc = roc_auc_score(y_val, y_pred)\n",
    "            scores.append(auc)\n",
    "    \n",
    "    print(f'C= {C} {np.mean(scores):.3f} +- {np.std(scores):.3f}')"
   ]
  },
  {
   "cell_type": "markdown",
   "id": "b3a4a0ff-b768-4001-9ddc-19592bb6a0ae",
   "metadata": {},
   "source": [
    "## Submit the results\n",
    "\n",
    "- Submit your results here: https://forms.gle/E7Fa3WuBw3HkPQYg6\n",
    "- If your answer doesn't match options exactly, select the closest one.\n",
    "- You can submit your solution multiple times. In this case, only the last submission will be used"
   ]
  },
  {
   "cell_type": "markdown",
   "id": "2a39cc32-66e0-4611-91a0-a9ccfe0d0e59",
   "metadata": {},
   "source": [
    "## Deadline\n",
    "\n",
    "The deadline for submitting is October 9 (Monday), 23:00 CET. After that the form will be closed."
   ]
  },
  {
   "cell_type": "code",
   "execution_count": null,
   "id": "faae3b25-751b-414a-be96-765a72845c7c",
   "metadata": {},
   "outputs": [],
   "source": []
  }
 ],
 "metadata": {
  "kernelspec": {
   "display_name": "Python 3 (ipykernel)",
   "language": "python",
   "name": "python3"
  },
  "language_info": {
   "codemirror_mode": {
    "name": "ipython",
    "version": 3
   },
   "file_extension": ".py",
   "mimetype": "text/x-python",
   "name": "python",
   "nbconvert_exporter": "python",
   "pygments_lexer": "ipython3",
   "version": "3.10.12"
  }
 },
 "nbformat": 4,
 "nbformat_minor": 5
}
