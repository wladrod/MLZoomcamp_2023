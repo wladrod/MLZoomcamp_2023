{
 "cells": [
  {
   "cell_type": "markdown",
   "id": "888fe3a1-4ad3-4a2d-ba2f-54a7466bdc54",
   "metadata": {},
   "source": [
    "## Homework 5\n",
    "\n",
    "In this homework, we will use Bank credit scoring dataset from [here](https://www.kaggle.com/datasets/kapturovalexander/bank-credit-scoring/data).\n",
    "\n",
    "> **Note**: sometimes your answer doesn't match one of the options exactly. That's fine. \n",
    "Select the option that's closest to your solution.\n",
    "\n",
    "> **Note**: we recommend using python 3.10 in this homework."
   ]
  },
  {
   "cell_type": "markdown",
   "id": "68d77cf3-df1b-4f07-a57c-18185ccf54ad",
   "metadata": {},
   "source": [
    "## Question 1\n",
    "\n",
    "* Install Pipenv\n",
    "* What's the version of pipenv you installed?\n",
    "* Use `--version` to find out\n"
   ]
  },
  {
   "cell_type": "code",
   "execution_count": 1,
   "id": "91f11600-8eca-4dee-9d9d-4d40855b836a",
   "metadata": {},
   "outputs": [
    {
     "data": {
      "text/html": [
       "<pre style=\"white-space:pre;overflow-x:auto;line-height:normal;font-family:Menlo,'DejaVu Sans Mono',consolas,'Courier New',monospace\"></pre>\n"
      ],
      "text/plain": []
     },
     "metadata": {},
     "output_type": "display_data"
    },
    {
     "data": {
      "text/plain": [
       "'2023.10.3'"
      ]
     },
     "execution_count": 1,
     "metadata": {},
     "output_type": "execute_result"
    }
   ],
   "source": [
    "import pipenv\n",
    "pipenv.__version__"
   ]
  },
  {
   "cell_type": "markdown",
   "id": "fc89bf14-9b6a-4ec9-b0f6-69f1341775ae",
   "metadata": {},
   "source": [
    "## Question 2\n",
    "\n",
    "* Use Pipenv to install Scikit-Learn version 1.3.1\n",
    "* What's the first hash for scikit-learn you get in Pipfile.lock?\n",
    "\n",
    "> **Note**: you should create an empty folder for homework\n",
    "and do it there."
   ]
  },
  {
   "cell_type": "markdown",
   "id": "f8132e44-7cf4-4f67-9ab4-a074f4214cf4",
   "metadata": {},
   "source": [
    "sha256:0c275a06c5190c5ce00af0acbb61c06374087949f643ef32d355ece12c4db043"
   ]
  },
  {
   "cell_type": "markdown",
   "id": "564045d4-92c3-45d0-89fd-71dc69dbc670",
   "metadata": {},
   "source": [
    "## Models\n",
    "\n",
    "We've prepared a dictionary vectorizer and a model.\n",
    "\n",
    "They were trained (roughly) using this code:\n",
    "\n",
    "```python\n",
    "features = ['job','duration', 'poutcome']\n",
    "dicts = df[features].to_dict(orient='records')\n",
    "\n",
    "dv = DictVectorizer(sparse=False)\n",
    "X = dv.fit_transform(dicts)\n",
    "\n",
    "model = LogisticRegression().fit(X, y)\n",
    "```\n",
    "\n",
    "> **Note**: You don't need to train the model. This code is just for your reference.\n",
    "\n",
    "And then saved with Pickle. Download them:\n",
    "\n",
    "* [DictVectorizer](https://github.com/DataTalksClub/machine-learning-zoomcamp/tree/master/cohorts/2023/05-deployment/homework/dv.bin?raw=true)\n",
    "* [LogisticRegression](https://github.com/DataTalksClub/machine-learning-zoomcamp/tree/master/cohorts/2023/05-deployment/homework/model1.bin?raw=true)\n",
    "\n",
    "With `wget`:\n",
    "\n",
    "```bash\n",
    "PREFIX=https://raw.githubusercontent.com/DataTalksClub/machine-learning-zoomcamp/master/cohorts/2023/05-deployment/homework\n",
    "wget $PREFIX/model1.bin\n",
    "wget $PREFIX/dv.bin\n",
    "```"
   ]
  },
  {
   "cell_type": "markdown",
   "id": "fb947258-5b45-4689-a0a5-e03febfe4f5b",
   "metadata": {},
   "source": [
    "## Question 3\n",
    "\n",
    "Let's use these models!\n",
    "\n",
    "* Write a script for loading these models with pickle\n",
    "* Score this client:\n",
    "\n",
    "```json\n",
    "{\"job\": \"retired\", \"duration\": 445, \"poutcome\": \"success\"}\n",
    "```\n",
    "\n",
    "What's the probability that this client will get a credit? \n",
    "\n",
    "* 0.162\n",
    "* 0.392\n",
    "* 0.652\n",
    "* **0.902**\n",
    "\n",
    "If you're getting errors when unpickling the files, check their checksum:\n",
    "\n",
    "```bash\n",
    "$ md5sum model1.bin dv.bin\n",
    "3f57f3ebfdf57a9e1368dcd0f28a4a14  model1.bin\n",
    "6b7cded86a52af7e81859647fa3a5c2e  dv.bin\n",
    "```"
   ]
  },
  {
   "cell_type": "code",
   "execution_count": 3,
   "id": "e8006c34-fbe4-403d-a53a-60cfcd04e633",
   "metadata": {},
   "outputs": [],
   "source": [
    "import pickle"
   ]
  },
  {
   "cell_type": "code",
   "execution_count": 4,
   "id": "71e6055c-7fea-4482-ba45-86bf59620372",
   "metadata": {},
   "outputs": [],
   "source": [
    "file_model = 'model1.bin'\n",
    "file_dv = 'dv.bin'\n",
    "with open(file_model, 'rb') as f_in:\n",
    "    model = pickle.load(f_in)\n",
    "    \n",
    "with open(file_dv, 'rb') as f_in:\n",
    "    dv = pickle.load(f_in)"
   ]
  },
  {
   "cell_type": "code",
   "execution_count": 5,
   "id": "e9cb982b-8006-4c3b-9ed8-52bb2cdf9ce5",
   "metadata": {},
   "outputs": [
    {
     "data": {
      "text/plain": [
       "0.902"
      ]
     },
     "execution_count": 5,
     "metadata": {},
     "output_type": "execute_result"
    }
   ],
   "source": [
    "client = {\"job\": \"retired\", \"duration\": 445, \"poutcome\": \"success\"}\n",
    "X = dv.transform([client])\n",
    "model.predict_proba(X)[0, 1].round(3)"
   ]
  },
  {
   "cell_type": "markdown",
   "id": "af96b2e2-33b0-45dd-a6f4-e891fb1b1cae",
   "metadata": {},
   "source": [
    "## Question 4\n",
    "\n",
    "Now let's serve this model as a web service\n",
    "\n",
    "* Install Flask and gunicorn (or waitress, if you're on Windows)\n",
    "* Write Flask code for serving the model\n",
    "* Now score this client using `requests`:\n",
    "\n",
    "```python\n",
    "url = \"YOUR_URL\"\n",
    "client = {\"job\": \"unknown\", \"duration\": 270, \"poutcome\": \"failure\"}\n",
    "requests.post(url, json=client).json()\n",
    "```\n",
    "\n",
    "What's the probability that this client will get a credit?\n",
    "\n",
    "* **0.140**\n",
    "* 0.440\n",
    "* 0.645\n",
    "* 0.845"
   ]
  },
  {
   "cell_type": "code",
   "execution_count": 6,
   "id": "017e185c-e0f7-4f82-861d-857fe78f2367",
   "metadata": {},
   "outputs": [
    {
     "data": {
      "text/plain": [
       "{'credit probability': 0.14}"
      ]
     },
     "execution_count": 6,
     "metadata": {},
     "output_type": "execute_result"
    }
   ],
   "source": [
    "import requests\n",
    "\n",
    "url = 'http://localhost:9696/predict'\n",
    "client = {\"job\": \"unknown\", \"duration\": 270, \"poutcome\": \"failure\"}\n",
    "requests.post(url, json=client).json()"
   ]
  },
  {
   "cell_type": "markdown",
   "id": "5904b13e-434a-42b1-994a-6f80a27164e9",
   "metadata": {},
   "source": [
    "## Docker\n",
    "\n",
    "Install [Docker](https://github.com/DataTalksClub/machine-learning-zoomcamp/blob/master/05-deployment/06-docker.md). \n",
    "We will use it for the next two questions.\n",
    "\n",
    "For these questions, we prepared a base image: `svizor/zoomcamp-model:3.10.12-slim`. \n",
    "You'll need to use it (see Question 5 for an example).\n",
    "\n",
    "This image is based on `python:3.10.12-slim` and has a logistic regression model \n",
    "(a different one) as well a dictionary vectorizer inside. \n",
    "\n",
    "This is how the Dockerfile for this image looks like:\n",
    "\n",
    "```docker \n",
    "FROM python:3.10.12-slim\n",
    "WORKDIR /app\n",
    "COPY [\"model2.bin\", \"dv.bin\", \"./\"]\n",
    "```\n",
    "\n",
    "We already built it and then pushed it to [`svizor/zoomcamp-model:3.10.12-slim`](https://hub.docker.com/r/svizor/zoomcamp-model).\n",
    "\n",
    "> **Note**: You don't need to build this docker image, it's just for your reference.\n"
   ]
  },
  {
   "cell_type": "markdown",
   "id": "9c42f227-a2f3-477b-9ba6-a551d67e9f41",
   "metadata": {},
   "source": [
    "## Question 5\n",
    "\n",
    "Download the base image `svizor/zoomcamp-model:3.10.12-slim`. You can easily make it by using [docker pull](https://docs.docker.com/engine/reference/commandline/pull/) command.\n",
    "\n",
    "So what's the size of this base image?\n",
    "\n",
    "* 47 MB\n",
    "* **147 MB**\n",
    "* 374 MB\n",
    "* 574 MB\n",
    "\n",
    "You can get this information when running `docker images` - it'll be in the \"SIZE\" column."
   ]
  },
  {
   "cell_type": "code",
   "execution_count": 9,
   "id": "2d6018c8-8d2a-4c96-82cb-ace353328d34",
   "metadata": {},
   "outputs": [
    {
     "name": "stdout",
     "output_type": "stream",
     "text": [
      "REPOSITORY              TAG            IMAGE ID       CREATED      SIZE\n",
      "svizor/zoomcamp-model   3.10.12-slim   08266c8f0c4b   5 days ago   147MB\n"
     ]
    }
   ],
   "source": [
    "!docker images"
   ]
  },
  {
   "cell_type": "markdown",
   "id": "a71ccedc-51a4-41d8-8d2d-8db859f11d3d",
   "metadata": {},
   "source": [
    "## Dockerfile\n",
    "\n",
    "Now create your own Dockerfile based on the image we prepared.\n",
    "\n",
    "It should start like that:\n",
    "\n",
    "```docker\n",
    "FROM svizor/zoomcamp-model:3.10.12-slim\n",
    "# add your stuff here\n",
    "```\n",
    "\n",
    "Now complete it:\n",
    "\n",
    "* Install all the dependencies form the Pipenv file\n",
    "* Copy your Flask script\n",
    "* Run it with Gunicorn \n",
    "\n",
    "After that, you can build your docker image."
   ]
  },
  {
   "cell_type": "markdown",
   "id": "72d9203c-e479-4f48-b9bf-459f63a1aade",
   "metadata": {},
   "source": [
    "## Question 6\n",
    "\n",
    "Let's run your docker container!\n",
    "\n",
    "After running it, score this client once again:\n",
    "\n",
    "```python\n",
    "url = \"YOUR_URL\"\n",
    "client = {\"job\": \"retired\", \"duration\": 445, \"poutcome\": \"success\"}\n",
    "requests.post(url, json=client).json()\n",
    "```\n",
    "\n",
    "What's the probability that this client will get a credit now?\n",
    "\n",
    "* 0.168\n",
    "* 0.530\n",
    "* **0.730**\n",
    "* 0.968\n"
   ]
  },
  {
   "cell_type": "code",
   "execution_count": 10,
   "id": "de7854b1-3811-4f2d-8d65-54d9f90ffb2b",
   "metadata": {},
   "outputs": [
    {
     "data": {
      "text/plain": [
       "{'credit probability': 0.727}"
      ]
     },
     "execution_count": 10,
     "metadata": {},
     "output_type": "execute_result"
    }
   ],
   "source": [
    "url = \"http://localhost:9696/predict\"\n",
    "client = {\"job\": \"retired\", \"duration\": 445, \"poutcome\": \"success\"}\n",
    "requests.post(url, json=client).json()"
   ]
  },
  {
   "cell_type": "markdown",
   "id": "deddd2c7-1e7e-4656-b54b-d9b8f90e80fb",
   "metadata": {},
   "source": [
    "## Submit the results\n",
    "\n",
    "- Submit your results here: https://forms.gle/gfruq6FGoLass3Ff9\n",
    "- If your answer doesn't match options exactly, select the closest one.\n",
    "- You can submit your solution multiple times. In this case, only the last submission will be used\n",
    "\n",
    "\n",
    "## Deadline\n",
    "\n",
    "The deadline for submitting is October 16 (Monday), 23:00 CET. After that the form will be closed."
   ]
  },
  {
   "cell_type": "code",
   "execution_count": 1,
   "id": "1ee1a833-6ec1-496b-a381-34138b2819e6",
   "metadata": {},
   "outputs": [
    {
     "name": "stdout",
     "output_type": "stream",
     "text": [
      " * Serving Flask app '__main__'\n",
      " * Debug mode: on\n"
     ]
    },
    {
     "name": "stderr",
     "output_type": "stream",
     "text": [
      "WARNING: This is a development server. Do not use it in a production deployment. Use a production WSGI server instead.\n",
      " * Running on all addresses (0.0.0.0)\n",
      " * Running on http://127.0.0.1:9696\n",
      " * Running on http://192.168.3.160:9696\n",
      "Press CTRL+C to quit\n",
      " * Restarting with stat\n",
      "Traceback (most recent call last):\n",
      "  File \"/Users/wladimir/mambaforge/lib/python3.10/runpy.py\", line 196, in _run_module_as_main\n",
      "    return _run_code(code, main_globals, None,\n",
      "  File \"/Users/wladimir/mambaforge/lib/python3.10/runpy.py\", line 86, in _run_code\n",
      "    exec(code, run_globals)\n",
      "  File \"/Users/wladimir/mambaforge/lib/python3.10/site-packages/ipykernel_launcher.py\", line 17, in <module>\n",
      "    app.launch_new_instance()\n",
      "  File \"/Users/wladimir/mambaforge/lib/python3.10/site-packages/traitlets/config/application.py\", line 1052, in launch_instance\n",
      "    app.initialize(argv)\n",
      "  File \"/Users/wladimir/mambaforge/lib/python3.10/site-packages/traitlets/config/application.py\", line 117, in inner\n",
      "    return method(app, *args, **kwargs)\n",
      "  File \"/Users/wladimir/mambaforge/lib/python3.10/site-packages/ipykernel/kernelapp.py\", line 689, in initialize\n",
      "    self.init_sockets()\n",
      "  File \"/Users/wladimir/mambaforge/lib/python3.10/site-packages/ipykernel/kernelapp.py\", line 328, in init_sockets\n",
      "    self.shell_port = self._bind_socket(self.shell_socket, self.shell_port)\n",
      "  File \"/Users/wladimir/mambaforge/lib/python3.10/site-packages/ipykernel/kernelapp.py\", line 252, in _bind_socket\n",
      "    return self._try_bind_socket(s, port)\n",
      "  File \"/Users/wladimir/mambaforge/lib/python3.10/site-packages/ipykernel/kernelapp.py\", line 228, in _try_bind_socket\n",
      "    s.bind(\"tcp://%s:%i\" % (self.ip, port))\n",
      "  File \"/Users/wladimir/mambaforge/lib/python3.10/site-packages/zmq/sugar/socket.py\", line 302, in bind\n",
      "    super().bind(addr)\n",
      "  File \"zmq/backend/cython/socket.pyx\", line 564, in zmq.backend.cython.socket.Socket.bind\n",
      "  File \"zmq/backend/cython/checkrc.pxd\", line 28, in zmq.backend.cython.checkrc._check_rc\n",
      "zmq.error.ZMQError: Address already in use (addr='tcp://127.0.0.1:62407')\n"
     ]
    },
    {
     "ename": "SystemExit",
     "evalue": "1",
     "output_type": "error",
     "traceback": [
      "An exception has occurred, use %tb to see the full traceback.\n",
      "\u001b[0;31mSystemExit\u001b[0m\u001b[0;31m:\u001b[0m 1\n"
     ]
    },
    {
     "name": "stderr",
     "output_type": "stream",
     "text": [
      "/Users/wladimir/mambaforge/lib/python3.10/site-packages/IPython/core/interactiveshell.py:3534: UserWarning: To exit: use 'exit', 'quit', or Ctrl-D.\n",
      "  warn(\"To exit: use 'exit', 'quit', or Ctrl-D.\", stacklevel=1)\n"
     ]
    }
   ],
   "source": [
    "from flask import Flask, request\n",
    "\n",
    "app = Flask(__name__)\n",
    "\n",
    "# Define your Python function\n",
    "def my_python_function():\n",
    "    return \"Hello, World!\"\n",
    "\n",
    "# Define a route to call your Python function with POST method\n",
    "@app.route('/my_function', methods=['POST'])\n",
    "def my_function():\n",
    "    if request.method == 'POST':\n",
    "        result = my_python_function()\n",
    "        return f\"Result: {result}\"\n",
    "    return \"Invalid request method\"\n",
    "\n",
    "if __name__ == '__main__':\n",
    "    app.run(debug=True, host='0.0.0.0', port=9696)\n",
    "\n"
   ]
  },
  {
   "cell_type": "code",
   "execution_count": null,
   "id": "24b594fa-a380-49ab-911c-88424e9e93c1",
   "metadata": {},
   "outputs": [],
   "source": []
  }
 ],
 "metadata": {
  "kernelspec": {
   "display_name": "Python 3 (ipykernel)",
   "language": "python",
   "name": "python3"
  },
  "language_info": {
   "codemirror_mode": {
    "name": "ipython",
    "version": 3
   },
   "file_extension": ".py",
   "mimetype": "text/x-python",
   "name": "python",
   "nbconvert_exporter": "python",
   "pygments_lexer": "ipython3",
   "version": "3.10.12"
  }
 },
 "nbformat": 4,
 "nbformat_minor": 5
}
